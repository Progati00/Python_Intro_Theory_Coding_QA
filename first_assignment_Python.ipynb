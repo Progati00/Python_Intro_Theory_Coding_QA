{
 "cells": [
  {
   "cell_type": "markdown",
   "id": "438a893b",
   "metadata": {},
   "source": [
    "# Question 1 : Explain the key features of Python that make it a popular choice for programming.\n",
    "\n",
    "## Answer 1 : \n",
    "\n",
    "The key features are :\n",
    "1. Python's syntax is simple and easily readable, making it an accessible language for beginners.\n",
    "2. Python is highly versatile, used in web development, data analysis, machine learning, automation and many other domains.\n",
    "3. Python has a vast and continuously growing ecosystem of libraries such as NumPy, Pandas, Matplotlib, Seaborn and many more. All these libraries are used in Machine learning, Data Science, Data visualization, Data Manipulation.\n",
    "4. Python has very large and active community that provides abundant resources, tutorials and forums for learning and troubleshooting.\n",
    "5. Python is compatible with multiple operating systems, such as Windows, macOS and Linux, enabling code to run on different platforms without modification."
   ]
  },
  {
   "cell_type": "markdown",
   "id": "74257d21",
   "metadata": {},
   "source": [
    "# Question 2 : Describe the role of predefined keywords in Python and provide examples of how they are used in a program.\n",
    "\n",
    "## Answer 2 : \n",
    "\n",
    "In Python, predefined keywords are reserved words with specific meanings and functions built into the language. These keywords can't be used as identifiers.\n",
    "\n",
    "Python's predefined keywords include: \n",
    "if, else, elif, for, while, pass, break, continue, import, True, False, None and many more."
   ]
  },
  {
   "cell_type": "code",
   "execution_count": 1,
   "id": "4f6490ab",
   "metadata": {},
   "outputs": [
    {
     "name": "stdout",
     "output_type": "stream",
     "text": [
      "Example 1_Conditional output:  x is less than y\n",
      "Example 2_For loop output: \n",
      "Iteration 0\n",
      "Iteration 1\n",
      "Iteration 2\n",
      "Iteration 3\n",
      "Iteration 4\n"
     ]
    }
   ],
   "source": [
    "# Example :\n",
    "# The code example using python keywords.\n",
    "\n",
    "x = 5\n",
    "y = 8\n",
    "\n",
    "# Example 1 : Using if and else keywords:\n",
    "\n",
    "if x < y:\n",
    "    result = 'x is less than y'\n",
    "else:\n",
    "    result = 'x is greater than y'\n",
    "    \n",
    "print('Example 1_Conditional output: ', result)\n",
    "\n",
    "\n",
    "# Example 2 : Using for keyword to loop over a range:\n",
    "\n",
    "print('Example 2_For loop output: ')\n",
    "for i in range(5):\n",
    "    print(f'Iteration {i}')"
   ]
  },
  {
   "cell_type": "markdown",
   "id": "aefe12ab",
   "metadata": {},
   "source": [
    "# Question 3 : Compare and contrast mutable and immutable objects in Python with examples.\n",
    "\n",
    "## Answer 3 :\n",
    "\n",
    "Mutable Objects are those whose state or value can be changed after they are created. Lists, dictionaries and sets are mutable objects.\n",
    "\n",
    "Immutable Objects are those whose state or value cannot be changed after they are created. Once initialized, their data remains constant and cannot be modified. Strings and tuples are immuatable objects."
   ]
  },
  {
   "cell_type": "code",
   "execution_count": 2,
   "id": "d3c55c12",
   "metadata": {},
   "outputs": [
    {
     "data": {
      "text/plain": [
       "[9, 6, 4, 3, 2]"
      ]
     },
     "execution_count": 2,
     "metadata": {},
     "output_type": "execute_result"
    }
   ],
   "source": [
    "# Example:\n",
    "\n",
    "# Mutable objects :\n",
    "\n",
    "my_list = [1,6,4,3,2]\n",
    "my_list[0] = 9  # Modifying an element\n",
    "my_list"
   ]
  },
  {
   "cell_type": "code",
   "execution_count": 3,
   "id": "67cb7870",
   "metadata": {},
   "outputs": [
    {
     "ename": "TypeError",
     "evalue": "'str' object does not support item assignment",
     "output_type": "error",
     "traceback": [
      "\u001b[1;31m---------------------------------------------------------------------------\u001b[0m",
      "\u001b[1;31mTypeError\u001b[0m                                 Traceback (most recent call last)",
      "Cell \u001b[1;32mIn[3], line 6\u001b[0m\n\u001b[0;32m      1\u001b[0m \u001b[38;5;66;03m# Example:\u001b[39;00m\n\u001b[0;32m      2\u001b[0m \n\u001b[0;32m      3\u001b[0m \u001b[38;5;66;03m# Immutable objects :\u001b[39;00m\n\u001b[0;32m      5\u001b[0m my_string \u001b[38;5;241m=\u001b[39m \u001b[38;5;124m'\u001b[39m\u001b[38;5;124mHello World\u001b[39m\u001b[38;5;124m'\u001b[39m\n\u001b[1;32m----> 6\u001b[0m my_string[\u001b[38;5;241m0\u001b[39m] \u001b[38;5;241m=\u001b[39m \u001b[38;5;124m'\u001b[39m\u001b[38;5;124mC\u001b[39m\u001b[38;5;124m'\u001b[39m\n\u001b[0;32m      7\u001b[0m my_string\n",
      "\u001b[1;31mTypeError\u001b[0m: 'str' object does not support item assignment"
     ]
    }
   ],
   "source": [
    "# Example:\n",
    "\n",
    "# Immutable objects :\n",
    "\n",
    "my_string = 'Hello World'\n",
    "my_string[0] = 'C'\n",
    "my_string"
   ]
  },
  {
   "cell_type": "code",
   "execution_count": 4,
   "id": "40a5dad9",
   "metadata": {},
   "outputs": [
    {
     "name": "stdout",
     "output_type": "stream",
     "text": [
      "Hello World\n",
      "Cello World\n"
     ]
    }
   ],
   "source": [
    "my_string = 'Hello World'\n",
    "new_string = my_string.replace('H', 'C')\n",
    "print(my_string)\n",
    "print(new_string)"
   ]
  },
  {
   "cell_type": "markdown",
   "id": "53d4b197",
   "metadata": {},
   "source": [
    "# Question 4 : Discuss the different types of operators in Python and provide examples of how they are used.\n",
    "\n",
    "## Answer 4 :\n",
    "\n",
    "Operators are special symbols used to perform operations on variables and values. Different types of operators in Python are :\n",
    "\n",
    "#### 1. Arithmetic Operators : Used to perform arithmetic operation.\n",
    "\n",
    "Addition Operator (+) : Adds 2 operands.\n",
    "  Subtraction Operator (-) : Subtracts second operator from first.\n",
    "  Multiplication Operator (*) : Multiplies 2 operands.\n",
    "  Division Operator (/) : Divides the first operand by second.\n",
    "  Floor Division Operator (//) : Divides and returns the largest integer less than or equal to the result.\n",
    "  Modulus Operator (%) : Returns the remainder of the division.\n",
    "  Exponential Operator (**) : First operand to the power of second."
   ]
  },
  {
   "cell_type": "code",
   "execution_count": 6,
   "id": "c449ec7c",
   "metadata": {},
   "outputs": [
    {
     "data": {
      "text/plain": [
       "8"
      ]
     },
     "execution_count": 6,
     "metadata": {},
     "output_type": "execute_result"
    }
   ],
   "source": [
    "a = 2 \n",
    "b = 6\n",
    "a + b  # addition"
   ]
  },
  {
   "cell_type": "code",
   "execution_count": 7,
   "id": "b3976f57",
   "metadata": {},
   "outputs": [
    {
     "data": {
      "text/plain": [
       "-4"
      ]
     },
     "execution_count": 7,
     "metadata": {},
     "output_type": "execute_result"
    }
   ],
   "source": [
    "a - b  # subtraction"
   ]
  },
  {
   "cell_type": "code",
   "execution_count": 8,
   "id": "4550b8d4",
   "metadata": {},
   "outputs": [
    {
     "data": {
      "text/plain": [
       "12"
      ]
     },
     "execution_count": 8,
     "metadata": {},
     "output_type": "execute_result"
    }
   ],
   "source": [
    "a * b  # multiplication"
   ]
  },
  {
   "cell_type": "code",
   "execution_count": 9,
   "id": "c55456c1",
   "metadata": {},
   "outputs": [
    {
     "data": {
      "text/plain": [
       "0.3333333333333333"
      ]
     },
     "execution_count": 9,
     "metadata": {},
     "output_type": "execute_result"
    }
   ],
   "source": [
    "a / b   # division"
   ]
  },
  {
   "cell_type": "code",
   "execution_count": 10,
   "id": "5837b48d",
   "metadata": {},
   "outputs": [
    {
     "data": {
      "text/plain": [
       "0"
      ]
     },
     "execution_count": 10,
     "metadata": {},
     "output_type": "execute_result"
    }
   ],
   "source": [
    "a // b   # floor division"
   ]
  },
  {
   "cell_type": "code",
   "execution_count": 11,
   "id": "c49e3258",
   "metadata": {},
   "outputs": [
    {
     "data": {
      "text/plain": [
       "2"
      ]
     },
     "execution_count": 11,
     "metadata": {},
     "output_type": "execute_result"
    }
   ],
   "source": [
    "a % b   # modulus"
   ]
  },
  {
   "cell_type": "code",
   "execution_count": 12,
   "id": "bcbcbb91",
   "metadata": {},
   "outputs": [
    {
     "data": {
      "text/plain": [
       "64"
      ]
     },
     "execution_count": 12,
     "metadata": {},
     "output_type": "execute_result"
    }
   ],
   "source": [
    "a ** b   # exponential"
   ]
  },
  {
   "cell_type": "markdown",
   "id": "4b03c7af",
   "metadata": {},
   "source": [
    "#### 2. Comparison Operators : These operators are used to compare two values.\n",
    "\n",
    "Equal to (==) : Checks if 2 values are equal.\n",
    "Not equal to (!=) : Checks if 2 values are not equal.\n",
    "Greater than (>) : Checks if the first value is greater than the second.\n",
    "Less than (<) : Checks if the first value is less than the second.\n",
    "Greater than or equal to (>=) : Checks if the first value is greater than or equal to the second.\n",
    "Less than or equal to (<=) : Checks if the first value is less than or equal to the second."
   ]
  },
  {
   "cell_type": "code",
   "execution_count": 13,
   "id": "b099025f",
   "metadata": {},
   "outputs": [
    {
     "data": {
      "text/plain": [
       "False"
      ]
     },
     "execution_count": 13,
     "metadata": {},
     "output_type": "execute_result"
    }
   ],
   "source": [
    "a = 2\n",
    "b = 6\n",
    "a == b"
   ]
  },
  {
   "cell_type": "code",
   "execution_count": 14,
   "id": "f8956d69",
   "metadata": {},
   "outputs": [
    {
     "data": {
      "text/plain": [
       "True"
      ]
     },
     "execution_count": 14,
     "metadata": {},
     "output_type": "execute_result"
    }
   ],
   "source": [
    "a != b"
   ]
  },
  {
   "cell_type": "code",
   "execution_count": 15,
   "id": "a660416a",
   "metadata": {},
   "outputs": [
    {
     "data": {
      "text/plain": [
       "False"
      ]
     },
     "execution_count": 15,
     "metadata": {},
     "output_type": "execute_result"
    }
   ],
   "source": [
    "a > b"
   ]
  },
  {
   "cell_type": "code",
   "execution_count": 16,
   "id": "08928177",
   "metadata": {},
   "outputs": [
    {
     "data": {
      "text/plain": [
       "True"
      ]
     },
     "execution_count": 16,
     "metadata": {},
     "output_type": "execute_result"
    }
   ],
   "source": [
    "a < b"
   ]
  },
  {
   "cell_type": "code",
   "execution_count": 17,
   "id": "7ffa3974",
   "metadata": {},
   "outputs": [
    {
     "data": {
      "text/plain": [
       "False"
      ]
     },
     "execution_count": 17,
     "metadata": {},
     "output_type": "execute_result"
    }
   ],
   "source": [
    "a >= b"
   ]
  },
  {
   "cell_type": "code",
   "execution_count": 18,
   "id": "85082c91",
   "metadata": {},
   "outputs": [
    {
     "data": {
      "text/plain": [
       "True"
      ]
     },
     "execution_count": 18,
     "metadata": {},
     "output_type": "execute_result"
    }
   ],
   "source": [
    "a <= b"
   ]
  },
  {
   "cell_type": "markdown",
   "id": "42e3e38b",
   "metadata": {},
   "source": [
    "####  3. Logical Operators : These operators are used to combine conditional statements.\n",
    "\n",
    "And (and) : Returns True if both operands are true.\n",
    "Or (or) : Returns True if atleast one operand is true.\n",
    "Not (not) : Returns True if operand is false."
   ]
  },
  {
   "cell_type": "code",
   "execution_count": 19,
   "id": "5db67cee",
   "metadata": {},
   "outputs": [
    {
     "name": "stdout",
     "output_type": "stream",
     "text": [
      "True\n"
     ]
    }
   ],
   "source": [
    "a = 10\n",
    "b = 20\n",
    "# Both conditions must be True for the result to be true.\n",
    "result = (a > 6) and (b > 16)\n",
    "print(result)   # True"
   ]
  },
  {
   "cell_type": "code",
   "execution_count": 20,
   "id": "2949004a",
   "metadata": {},
   "outputs": [
    {
     "name": "stdout",
     "output_type": "stream",
     "text": [
      "True\n"
     ]
    }
   ],
   "source": [
    "a = 10\n",
    "b = 20\n",
    "# Atleast one condition must be True for the result to be true.\n",
    "result = (a > 16) or (b > 16)\n",
    "print(result)   #True"
   ]
  },
  {
   "cell_type": "code",
   "execution_count": 21,
   "id": "1ade00a7",
   "metadata": {},
   "outputs": [
    {
     "name": "stdout",
     "output_type": "stream",
     "text": [
      "False\n"
     ]
    }
   ],
   "source": [
    "a = 10\n",
    "# Inverts the result of the condition.\n",
    "result = not(a > 6)\n",
    "print(result)   #False"
   ]
  },
  {
   "cell_type": "markdown",
   "id": "46f680a1",
   "metadata": {},
   "source": [
    "####   4. Bitwise Operator : Bitwise Operators are used to perform operations on the binary representations of Integers. These Operations work directly on the bits of the numbers, allowing manipulation at a low level.\n",
    "\n",
    "And (&) : Returns 1 for each bit position where both corresponding bits are 1, otherwise it returns 0"
   ]
  },
  {
   "cell_type": "code",
   "execution_count": 22,
   "id": "579a8764",
   "metadata": {},
   "outputs": [
    {
     "name": "stdout",
     "output_type": "stream",
     "text": [
      "1\n"
     ]
    }
   ],
   "source": [
    "a = 5   # Binary: 0101\n",
    "b = 3   # Binary: 0011\n",
    "result = a & b   # Binary: 0001\n",
    "print(result)"
   ]
  },
  {
   "cell_type": "markdown",
   "id": "a9264e0a",
   "metadata": {},
   "source": [
    "Or (|) : Returns 1 for each bit position where atleast one of the corresponding bits is 1, otherwise it returns 0"
   ]
  },
  {
   "cell_type": "code",
   "execution_count": 23,
   "id": "6ee4ac9d",
   "metadata": {},
   "outputs": [
    {
     "name": "stdout",
     "output_type": "stream",
     "text": [
      "7\n"
     ]
    }
   ],
   "source": [
    "a = 5   # Binary: 0101\n",
    "b = 3   # Binary: 0011\n",
    "result = a | b   # Binary: 0111\n",
    "print(result)"
   ]
  },
  {
   "cell_type": "markdown",
   "id": "de191d3d",
   "metadata": {},
   "source": [
    "XOR (^) : Returns 1 when exactly one operand is 1, otherwise it returns 0"
   ]
  },
  {
   "cell_type": "code",
   "execution_count": 24,
   "id": "1e152958",
   "metadata": {},
   "outputs": [
    {
     "name": "stdout",
     "output_type": "stream",
     "text": [
      "6\n"
     ]
    }
   ],
   "source": [
    "a = 5   # Binary: 0101\n",
    "b = 3   # Binary: 0011\n",
    "result = a ^ b   # Binary: 0110\n",
    "print(result)"
   ]
  },
  {
   "cell_type": "markdown",
   "id": "9c50efc2",
   "metadata": {},
   "source": [
    "Negation (~) : Inverts all the bits of the number, which is equivalent to -(x+1) for any integer x"
   ]
  },
  {
   "cell_type": "code",
   "execution_count": 25,
   "id": "9ce61f42",
   "metadata": {},
   "outputs": [
    {
     "name": "stdout",
     "output_type": "stream",
     "text": [
      "-6\n"
     ]
    }
   ],
   "source": [
    "a = 5   #Binary: 0101\n",
    "result = ~a   #Binary: Inverted form of 0101\n",
    "print(result)"
   ]
  },
  {
   "cell_type": "markdown",
   "id": "7063a837",
   "metadata": {},
   "source": [
    "Left Shift (<<) : Shifts the bits to the left by a specified number of positions, filling 0's on the right"
   ]
  },
  {
   "cell_type": "code",
   "execution_count": 26,
   "id": "4dfd545b",
   "metadata": {},
   "outputs": [
    {
     "name": "stdout",
     "output_type": "stream",
     "text": [
      "10\n"
     ]
    }
   ],
   "source": [
    "a = 5   #Binary: 0101\n",
    "result = a << 1   #Binary: 1010\n",
    "print(result)"
   ]
  },
  {
   "cell_type": "markdown",
   "id": "0c3e65c8",
   "metadata": {},
   "source": [
    "Right Shift (>>) : Shifts the bits to the right by a specified number of positions, removing bits from the right end"
   ]
  },
  {
   "cell_type": "code",
   "execution_count": 27,
   "id": "a4ee3dde",
   "metadata": {},
   "outputs": [
    {
     "name": "stdout",
     "output_type": "stream",
     "text": [
      "5\n"
     ]
    }
   ],
   "source": [
    "a = 20  #Binary: 10100\n",
    "result = a >> 2   #Shifts right by 2\n",
    "print(result)"
   ]
  },
  {
   "cell_type": "markdown",
   "id": "98651867",
   "metadata": {},
   "source": [
    "#### 5. Membership Operators : Used to test if a value is a member of a sequence.\n",
    "\n",
    "In (in) : Checks if a value is present in a sequence."
   ]
  },
  {
   "cell_type": "code",
   "execution_count": 40,
   "id": "c94e619b",
   "metadata": {},
   "outputs": [
    {
     "data": {
      "text/plain": [
       "True"
      ]
     },
     "execution_count": 40,
     "metadata": {},
     "output_type": "execute_result"
    }
   ],
   "source": [
    "a = [1,2,4,'A']\n",
    "'A' in a"
   ]
  },
  {
   "cell_type": "markdown",
   "id": "4673b1dc",
   "metadata": {},
   "source": [
    "Not in (not in) : Checks if a value is not present in a sequence."
   ]
  },
  {
   "cell_type": "code",
   "execution_count": 41,
   "id": "8ad734b9",
   "metadata": {},
   "outputs": [
    {
     "data": {
      "text/plain": [
       "True"
      ]
     },
     "execution_count": 41,
     "metadata": {},
     "output_type": "execute_result"
    }
   ],
   "source": [
    "a = [1,2,3,'A']\n",
    "'B' not in a"
   ]
  },
  {
   "cell_type": "markdown",
   "id": "a1321750",
   "metadata": {},
   "source": [
    "#### 6. Identity Operators : Used to compare the memory location of two objects or variables.\n",
    "\n",
    "Is (is) : Checks if two variables point to the same object."
   ]
  },
  {
   "cell_type": "code",
   "execution_count": 42,
   "id": "fc9c03ab",
   "metadata": {},
   "outputs": [
    {
     "data": {
      "text/plain": [
       "False"
      ]
     },
     "execution_count": 42,
     "metadata": {},
     "output_type": "execute_result"
    }
   ],
   "source": [
    "a = 4\n",
    "b = 3\n",
    "a is b"
   ]
  },
  {
   "cell_type": "markdown",
   "id": "1b56a680",
   "metadata": {},
   "source": [
    "Is not (is not) : Checks if two variables are not point to the same object."
   ]
  },
  {
   "cell_type": "code",
   "execution_count": 43,
   "id": "9f5cff67",
   "metadata": {},
   "outputs": [
    {
     "data": {
      "text/plain": [
       "True"
      ]
     },
     "execution_count": 43,
     "metadata": {},
     "output_type": "execute_result"
    }
   ],
   "source": [
    "a = 4\n",
    "b = 3\n",
    "a is not b"
   ]
  },
  {
   "cell_type": "markdown",
   "id": "528686c0",
   "metadata": {},
   "source": [
    "#### 7. Assignment Operators : Assigns value to the variable.\n",
    "\n",
    "Assignment (=) : Assigns a value to the variable"
   ]
  },
  {
   "cell_type": "code",
   "execution_count": 44,
   "id": "22d581d6",
   "metadata": {},
   "outputs": [
    {
     "data": {
      "text/plain": [
       "6"
      ]
     },
     "execution_count": 44,
     "metadata": {},
     "output_type": "execute_result"
    }
   ],
   "source": [
    "a = 6\n",
    "a"
   ]
  },
  {
   "cell_type": "markdown",
   "id": "4c7db05d",
   "metadata": {},
   "source": [
    "Add and Assign (+=) : Adds and assigns the result to the variable"
   ]
  },
  {
   "cell_type": "code",
   "execution_count": 45,
   "id": "ed2c4521",
   "metadata": {},
   "outputs": [],
   "source": [
    "a += 5"
   ]
  },
  {
   "cell_type": "code",
   "execution_count": 46,
   "id": "89551d63",
   "metadata": {},
   "outputs": [
    {
     "data": {
      "text/plain": [
       "11"
      ]
     },
     "execution_count": 46,
     "metadata": {},
     "output_type": "execute_result"
    }
   ],
   "source": [
    "a"
   ]
  },
  {
   "cell_type": "markdown",
   "id": "e246fc85",
   "metadata": {},
   "source": [
    "Subtract and Assign (-=) : Subtracts and assigns the result to the variable"
   ]
  },
  {
   "cell_type": "code",
   "execution_count": 47,
   "id": "6beefa7d",
   "metadata": {},
   "outputs": [
    {
     "data": {
      "text/plain": [
       "6"
      ]
     },
     "execution_count": 47,
     "metadata": {},
     "output_type": "execute_result"
    }
   ],
   "source": [
    "a -= 5\n",
    "a"
   ]
  },
  {
   "cell_type": "markdown",
   "id": "cc0997c4",
   "metadata": {},
   "source": [
    "Multiply and Assign (*=) : Multiplies and assigns the result to the variable"
   ]
  },
  {
   "cell_type": "code",
   "execution_count": 48,
   "id": "eb0a1f41",
   "metadata": {},
   "outputs": [
    {
     "data": {
      "text/plain": [
       "30"
      ]
     },
     "execution_count": 48,
     "metadata": {},
     "output_type": "execute_result"
    }
   ],
   "source": [
    "a *= 5\n",
    "a"
   ]
  },
  {
   "cell_type": "markdown",
   "id": "33b73842",
   "metadata": {},
   "source": [
    "Divide and Assign (/=) : Divides and assigns the result to the variable"
   ]
  },
  {
   "cell_type": "code",
   "execution_count": 49,
   "id": "8a963b7c",
   "metadata": {},
   "outputs": [
    {
     "data": {
      "text/plain": [
       "6.0"
      ]
     },
     "execution_count": 49,
     "metadata": {},
     "output_type": "execute_result"
    }
   ],
   "source": [
    "a /= 5\n",
    "a"
   ]
  },
  {
   "cell_type": "markdown",
   "id": "380fdefb",
   "metadata": {},
   "source": [
    "# Question 5 : Explain the concept of type casting in Python with examples.\n",
    "\n",
    "## Answer 5 :\n",
    "\n",
    "Type Casting refers to the process of converting a variable of one data type to another. In Python, type casting can be either implicit or explicit.\n",
    "\n",
    "Implicit type casting : Python automatically converts one data type to another.\n",
    "    \n",
    "Explicit type casting : User manually converts one data type to another using built-in functions like int(), float(), str(), bool()."
   ]
  },
  {
   "cell_type": "markdown",
   "id": "a6e06a98",
   "metadata": {},
   "source": [
    "#### Implicit Type Casting :"
   ]
  },
  {
   "cell_type": "code",
   "execution_count": 51,
   "id": "bef8f2ad",
   "metadata": {},
   "outputs": [
    {
     "name": "stdout",
     "output_type": "stream",
     "text": [
      "8\n",
      "<class 'int'>\n"
     ]
    }
   ],
   "source": [
    "x = 2  \n",
    "y = 6\n",
    "result = x + y\n",
    "print(result)   # Output: 8\n",
    "print(type(result))   # Output: <class 'int'>"
   ]
  },
  {
   "cell_type": "markdown",
   "id": "a93027c5",
   "metadata": {},
   "source": [
    "#### Explicit Type Casting :"
   ]
  },
  {
   "cell_type": "code",
   "execution_count": 52,
   "id": "f01d5dc3",
   "metadata": {},
   "outputs": [
    {
     "name": "stdout",
     "output_type": "stream",
     "text": [
      "2\n",
      "<class 'int'>\n"
     ]
    }
   ],
   "source": [
    "x = 2.7\n",
    "y = int(x)   # Explicitly convert float to int\n",
    "print(y)   # Output: 2\n",
    "print(type(y))   # Output: <class 'int'>"
   ]
  },
  {
   "cell_type": "code",
   "execution_count": 53,
   "id": "a32fbf1e",
   "metadata": {},
   "outputs": [
    {
     "name": "stdout",
     "output_type": "stream",
     "text": [
      "23\n",
      "<class 'int'>\n"
     ]
    }
   ],
   "source": [
    "x = '23'\n",
    "y = int(x)   # Explicitly convert string to int\n",
    "print(y)   # Output: 23\n",
    "print(type(y))   # Output: <class 'int'>"
   ]
  },
  {
   "cell_type": "markdown",
   "id": "4fb4ce23",
   "metadata": {},
   "source": [
    "#### Boolean Type Casting : Converts other data types into a boolan value (True or False).\n",
    "\n",
    "#### In Python O is converted to False and any non-zero number is converted to True.\n",
    "#### An empty string (\"\") is converted to False and any non-empty string is converted to True.\n",
    "#### None is always converted to False."
   ]
  },
  {
   "cell_type": "code",
   "execution_count": 54,
   "id": "6bc6f9a1",
   "metadata": {},
   "outputs": [
    {
     "name": "stdout",
     "output_type": "stream",
     "text": [
      "False\n"
     ]
    }
   ],
   "source": [
    "bool(0)\n",
    "print(bool(0))   # Output: False"
   ]
  },
  {
   "cell_type": "code",
   "execution_count": 55,
   "id": "4dcb728d",
   "metadata": {},
   "outputs": [
    {
     "name": "stdout",
     "output_type": "stream",
     "text": [
      "False\n"
     ]
    }
   ],
   "source": [
    "bool('')\n",
    "print(bool(''))   # Output: False"
   ]
  },
  {
   "cell_type": "code",
   "execution_count": 56,
   "id": "6fe5ac23",
   "metadata": {},
   "outputs": [
    {
     "name": "stdout",
     "output_type": "stream",
     "text": [
      "False\n"
     ]
    }
   ],
   "source": [
    "bool(None)\n",
    "print(bool(None))   #Output: False"
   ]
  },
  {
   "cell_type": "markdown",
   "id": "3b44ff61",
   "metadata": {},
   "source": [
    "# Question 6 : How do conditional statements work in Python? Illustrate with examples.\n",
    "\n",
    "## Answer 6 :\n",
    "\n",
    "Conditional Statements in Python are used to execute certain blocks of code based on whether a specific condition or set of conditions evaluates to True or False.\n",
    "The most common Conditional statements are if, elif and else.\n",
    "\n",
    "#### if Statement : This statement is used to check a condition. If the condition is True, the code block under the if statement is executed."
   ]
  },
  {
   "cell_type": "code",
   "execution_count": 57,
   "id": "f2b46f8b",
   "metadata": {},
   "outputs": [
    {
     "name": "stdout",
     "output_type": "stream",
     "text": [
      "I will not play cricket\n"
     ]
    }
   ],
   "source": [
    "weather = 'Rainy'\n",
    "if weather == 'Rainy':\n",
    "    print('I will not play cricket')"
   ]
  },
  {
   "cell_type": "code",
   "execution_count": 58,
   "id": "315cc790",
   "metadata": {},
   "outputs": [
    {
     "name": "stdout",
     "output_type": "stream",
     "text": [
      "This is the number of interest\n"
     ]
    }
   ],
   "source": [
    "# In real life, decisions are based on multiple conditions.\n",
    "\n",
    "number = 22\n",
    "if ((number % 2 == 0) & (number > 0)):\n",
    "    print('This is the number of interest')"
   ]
  },
  {
   "cell_type": "markdown",
   "id": "b5742a57",
   "metadata": {},
   "source": [
    "#### elif Statement : elif (else if) statement allows us to check multiple conditions. If the first if condition is False, the elif condition is checked. Only the first True condition block will execute."
   ]
  },
  {
   "cell_type": "code",
   "execution_count": 59,
   "id": "528d7e77",
   "metadata": {},
   "outputs": [
    {
     "name": "stdout",
     "output_type": "stream",
     "text": [
      "I will play cricket\n"
     ]
    }
   ],
   "source": [
    "Temperature = 35\n",
    "if Temperature > 35:\n",
    "    print('I will not play cricket')\n",
    "elif Temperature > 20:\n",
    "    print('I will play cricket')\n",
    "elif Temperature > 10:\n",
    "    print('I will play football')"
   ]
  },
  {
   "cell_type": "markdown",
   "id": "99515aeb",
   "metadata": {},
   "source": [
    "#### else Statement : This statement is used to execute a block of code if none of the previous conditions are True."
   ]
  },
  {
   "cell_type": "code",
   "execution_count": 61,
   "id": "33a0f309",
   "metadata": {},
   "outputs": [
    {
     "name": "stdout",
     "output_type": "stream",
     "text": [
      "I will not play anything\n"
     ]
    }
   ],
   "source": [
    "Temperature = 7\n",
    "if Temperature > 35:\n",
    "    print('I will not play cricket')\n",
    "elif Temperature > 20:\n",
    "    print('I will play cricket')\n",
    "elif Temperature > 10:\n",
    "    print('I will play football')\n",
    "else:\n",
    "    print('I will not play anything')"
   ]
  },
  {
   "cell_type": "markdown",
   "id": "0c06ebed",
   "metadata": {},
   "source": [
    "#### Nested if-else Statement : You can have multiple if, else inside if-else."
   ]
  },
  {
   "cell_type": "code",
   "execution_count": 62,
   "id": "a69e2c45",
   "metadata": {},
   "outputs": [
    {
     "name": "stdout",
     "output_type": "stream",
     "text": [
      "The number is positive\n",
      "The number is even\n"
     ]
    }
   ],
   "source": [
    "# Outer if checks if the number is positive.\n",
    "# Inner if-else checks if the number is even or odd.\n",
    "\n",
    "\n",
    "number = 20\n",
    "if number > 0:\n",
    "    print('The number is positive')\n",
    "    if number % 2 == 0:\n",
    "        print('The number is even')\n",
    "    else:\n",
    "        print('The number is odd')\n",
    "else:\n",
    "    print('The number is non-positive')"
   ]
  },
  {
   "cell_type": "markdown",
   "id": "f4e0c1ae",
   "metadata": {},
   "source": [
    "# Question 7 : Describe the different types of loops in Python and their use cases with examples.\n",
    "\n",
    "## Answer 7 :\n",
    "\n",
    "In Python loops are used to repeatedly execute a block of code as long as a condition is met.\n",
    "\n",
    "2 types of loops : for loop and while loop.\n",
    "\n",
    "#### for Loop : This loop is used to iterate over a sequence (list, tuple, string or range) and execute a block of code for each item in the sequence.\n",
    "\n",
    "Use cases : 1) Iterating over items in a list, tuple, string.\n",
    "            2) Iterating over a range of numbers."
   ]
  },
  {
   "cell_type": "code",
   "execution_count": 63,
   "id": "b4b3e2ca",
   "metadata": {},
   "outputs": [
    {
     "name": "stdout",
     "output_type": "stream",
     "text": [
      "H\n",
      "e\n",
      "l\n",
      "l\n",
      "o\n"
     ]
    }
   ],
   "source": [
    "a = 'Hello'\n",
    "for i in a:\n",
    "    print(i)"
   ]
  },
  {
   "cell_type": "code",
   "execution_count": 64,
   "id": "1e68ca0a",
   "metadata": {},
   "outputs": [
    {
     "name": "stdout",
     "output_type": "stream",
     "text": [
      "1\n",
      "2\n",
      "3\n",
      "sad\n",
      "fall\n"
     ]
    }
   ],
   "source": [
    "# Iterating over a list.\n",
    "\n",
    "a = [1,2,3,'sad','fall']\n",
    "for i in a:\n",
    "    print(i)"
   ]
  },
  {
   "cell_type": "code",
   "execution_count": 65,
   "id": "ec0db6dc",
   "metadata": {},
   "outputs": [
    {
     "name": "stdout",
     "output_type": "stream",
     "text": [
      "Hello!\n",
      "Hello!\n",
      "Hello!\n"
     ]
    }
   ],
   "source": [
    "# Using range() to repeat an action.\n",
    "\n",
    "for i in range(3):\n",
    "    print('Hello!')"
   ]
  },
  {
   "cell_type": "markdown",
   "id": "0ab77a7d",
   "metadata": {},
   "source": [
    "#### while Loop : while loop continues to execute a block of code as long as a specified condition is True.\n",
    "\n",
    "Use cases : 1) Repeating an action until a certain condition changes.\n",
    "            2) Waiting for a condition to become True."
   ]
  },
  {
   "cell_type": "code",
   "execution_count": 66,
   "id": "5f51f545",
   "metadata": {},
   "outputs": [
    {
     "name": "stdout",
     "output_type": "stream",
     "text": [
      "1\n",
      "2\n",
      "3\n",
      "4\n",
      "5\n",
      "6\n"
     ]
    }
   ],
   "source": [
    "n = 7\n",
    "i = 1\n",
    "while i < n:   # Block of code executing until i<n is met\n",
    "    print(i)\n",
    "    i = i + 1"
   ]
  },
  {
   "cell_type": "code",
   "execution_count": 67,
   "id": "cb43e884",
   "metadata": {},
   "outputs": [
    {
     "name": "stdout",
     "output_type": "stream",
     "text": [
      "5\n",
      "4\n",
      "3\n",
      "2\n",
      "1\n"
     ]
    }
   ],
   "source": [
    "# Counting down\n",
    "\n",
    "count = 5\n",
    "while count > 0:\n",
    "    print(count)\n",
    "    count = count - 1"
   ]
  },
  {
   "cell_type": "markdown",
   "id": "09854e15",
   "metadata": {},
   "source": [
    "#### break And continue Statements : \n",
    "\n",
    "#### break : Terminates the loop immediately.\n",
    "#### continue : Skips the rest of the current iteration and moves to the next one."
   ]
  },
  {
   "cell_type": "code",
   "execution_count": 69,
   "id": "b67a69db",
   "metadata": {},
   "outputs": [
    {
     "name": "stdout",
     "output_type": "stream",
     "text": [
      "0\n",
      "1\n",
      "2\n",
      "3\n"
     ]
    }
   ],
   "source": [
    "# Using break \n",
    "\n",
    "for number in range(10):\n",
    "    if number == 4:\n",
    "        break\n",
    "    print(number)"
   ]
  },
  {
   "cell_type": "code",
   "execution_count": 71,
   "id": "cfa5dd3d",
   "metadata": {},
   "outputs": [
    {
     "name": "stdout",
     "output_type": "stream",
     "text": [
      "1\n",
      "3\n",
      "5\n",
      "7\n",
      "9\n",
      "11\n"
     ]
    }
   ],
   "source": [
    "# Using continue\n",
    "\n",
    "i = 0    # loop starts with i=0 and increments i by 1 at the beginning of each iteration\n",
    "while i < 12:\n",
    "    i = i + 1\n",
    "    if i % 2 == 0:    \n",
    "        continue    # continue statement is executed which skips print(i) statement and goes to the next iteration\n",
    "    print(i)     # only odd numbers are printed because even numbers are skipped"
   ]
  },
  {
   "cell_type": "code",
   "execution_count": 72,
   "id": "00c3e968",
   "metadata": {},
   "outputs": [
    {
     "name": "stdout",
     "output_type": "stream",
     "text": [
      "1\n",
      "2\n",
      "3\n",
      "4\n",
      "5\n",
      "Breaking out of the loop\n"
     ]
    }
   ],
   "source": [
    "# Using break\n",
    "\n",
    "i = 1\n",
    "while i < 10:\n",
    "    print(i)\n",
    "    if i == 5:    # when i=5, if condition is met and break statement is executed\n",
    "        print('Breaking out of the loop')\n",
    "        break\n",
    "    i = i + 1"
   ]
  },
  {
   "cell_type": "code",
   "execution_count": null,
   "id": "425e32d1",
   "metadata": {},
   "outputs": [],
   "source": []
  }
 ],
 "metadata": {
  "kernelspec": {
   "display_name": "Python 3 (ipykernel)",
   "language": "python",
   "name": "python3"
  },
  "language_info": {
   "codemirror_mode": {
    "name": "ipython",
    "version": 3
   },
   "file_extension": ".py",
   "mimetype": "text/x-python",
   "name": "python",
   "nbconvert_exporter": "python",
   "pygments_lexer": "ipython3",
   "version": "3.11.3"
  }
 },
 "nbformat": 4,
 "nbformat_minor": 5
}
